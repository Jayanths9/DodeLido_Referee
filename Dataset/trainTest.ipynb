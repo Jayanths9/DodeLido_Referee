{
  "cells": [
    {
      "cell_type": "markdown",
      "metadata": {
        "colab_type": "text",
        "id": "view-in-github"
      },
      "source": [
        "<a href=\"https://colab.research.google.com/github/Jayanths9/Dodelido_opencv/blob/main/Jay_Single_Image_Train.ipynb\" target=\"_parent\"><img src=\"https://colab.research.google.com/assets/colab-badge.svg\" alt=\"Open In Colab\"/></a>"
      ]
    },
    {
      "cell_type": "code",
      "execution_count": 2,
      "metadata": {
        "id": "z2l8hbH30cFe"
      },
      "outputs": [],
      "source": [
        "# Importing Library Files\n",
        "import albumentations as A\n",
        "import cv2\n",
        "from matplotlib import pyplot as plt\n",
        "import pandas as pd\n",
        "import numpy as np\n",
        "import joblib\n",
        "import json\n",
        "#from google.colab.patches import cv2_imshow"
      ]
    },
    {
      "cell_type": "code",
      "execution_count": 29,
      "metadata": {
        "id": "N_V5hYh-YEeL"
      },
      "outputs": [],
      "source": [
        "image_dir=\"Images/\"\n",
        "data = pd.read_json(\"labels.json\").T\n",
        "\n",
        "data = data.sort_index(ascending=True)\n",
        "data = data.reset_index()\n",
        "\n",
        "data[\"animal_color\"] = data.apply(lambda row: [row[0], row[1]], axis=1)\n",
        "data['labels'] = list(zip(data[0], data[1]))\n"
      ]
    },
    {
      "cell_type": "code",
      "execution_count": 30,
      "metadata": {},
      "outputs": [
        {
          "data": {
            "text/plain": [
              "(256, 256, 3)"
            ]
          },
          "execution_count": 30,
          "metadata": {},
          "output_type": "execute_result"
        }
      ],
      "source": [
        "image = cv2.imread(image_dir+'0_90.png')\n",
        "image.shape"
      ]
    },
    {
      "cell_type": "code",
      "execution_count": 31,
      "metadata": {
        "colab": {
          "base_uri": "https://localhost:8080/"
        },
        "id": "7iaraqYZbqJf",
        "outputId": "1160b612-3c4a-4a6d-8a76-35f7a8d90d3d"
      },
      "outputs": [
        {
          "name": "stdout",
          "output_type": "stream",
          "text": [
            "Number of posters for training:  428\n",
            "Number of posters for validation:  107\n"
          ]
        }
      ],
      "source": [
        "# Splitting the dataset\n",
        "\n",
        "from sklearn.model_selection import train_test_split\n",
        "\n",
        "X_train, X_val, y_train, y_val = train_test_split(\n",
        "    data['index'], data['animal_color'], test_size=0.2, random_state=44)\n",
        "\n",
        "print(\"Number of posters for training: \", len(X_train))\n",
        "print(\"Number of posters for validation: \", len(X_val))"
      ]
    },
    {
      "cell_type": "code",
      "execution_count": 32,
      "metadata": {
        "colab": {
          "base_uri": "https://localhost:8080/"
        },
        "id": "Ht_8kbnKrtXT",
        "outputId": "c66dfd14-23b5-4598-ff08-7cdf8777b755"
      },
      "outputs": [
        {
          "name": "stdout",
          "output_type": "stream",
          "text": [
            "[['Flamingo', 'Pink'], ['Snake', 'Blue'], ['Giraffe', 'Yellow'], ['Flamingo', 'Grey']]\n",
            "0. Alarm\n",
            "1. Blue\n",
            "2. Flamingo\n",
            "3. Giraffe\n",
            "4. Green\n",
            "5. Grey\n",
            "6. Lion\n",
            "7. Monkey\n",
            "8. Pink\n",
            "9. Sloth\n",
            "10. Snake\n",
            "11. Yellow\n"
          ]
        }
      ],
      "source": [
        "# The targets should be a list of list of strings to fit a binarizer (multi-hot encoding).\n",
        "\n",
        "y_train = list(y_train)\n",
        "y_val = list(y_val)\n",
        "\n",
        "print(y_val[:4])\n",
        "\n",
        "\n",
        "from sklearn.preprocessing import MultiLabelBinarizer\n",
        "\n",
        "# Fit the multi-label binarizer on the training set\n",
        "mlb = MultiLabelBinarizer()\n",
        "mlb.fit(y_train)\n",
        "\n",
        "# Loop over all labels and show them\n",
        "N_LABELS = len(mlb.classes_)\n",
        "for (i, label) in enumerate(mlb.classes_):\n",
        "    print(\"{}. {}\".format(i, label))"
      ]
    },
    {
      "cell_type": "code",
      "execution_count": 33,
      "metadata": {
        "colab": {
          "base_uri": "https://localhost:8080/"
        },
        "id": "rlaHYnkX4hAT",
        "outputId": "7334135b-97d9-4de1-edf8-82aff48bb6b8"
      },
      "outputs": [
        {
          "name": "stdout",
          "output_type": "stream",
          "text": [
            "0.png [0 0 0 0 0 1 1 0 0 0 0 0]\n",
            "1.png [0 0 0 0 1 0 0 1 0 0 0 0]\n",
            "10.png [0 0 0 0 0 1 0 0 0 0 1 0]\n"
          ]
        }
      ],
      "source": [
        "# transform the targets of the training and test sets\n",
        "y_train_bin = mlb.transform(y_train)\n",
        "y_val_bin = mlb.transform(y_val)\n",
        "\n",
        "# Print example of images and their binary targets\n",
        "for i in range(3):\n",
        "    print(X_train[i], y_train_bin[i])"
      ]
    },
    {
      "cell_type": "code",
      "execution_count": 34,
      "metadata": {
        "id": "Q8rE5G7HPICr"
      },
      "outputs": [],
      "source": [
        "import tensorflow as tf\n",
        "\n",
        "IMG_SIZE = 224 # Specify height and width of image to match the input format of the model\n",
        "CHANNELS = 3 # Keep RGB color channels to match the input format of the model\n",
        "BATCH_SIZE = 256 # Big enough to measure an F1-score\n",
        "AUTOTUNE = tf.data.experimental.AUTOTUNE # Adapt preprocessing and prefetching dynamically\n",
        "SHUFFLE_BUFFER_SIZE = 1024 # Shuffle the training data by a chunck of 1024 observations\n",
        "\n",
        "def parse_function(filename, label):\n",
        "    \"\"\"Function that returns a tuple of normalized image array and labels array.\n",
        "    Args:\n",
        "        filename: string representing path to image\n",
        "        label: 0/1 one-dimensional array of size N_LABELS\n",
        "    \"\"\"\n",
        "    # filename=image_dir+filename\n",
        "    # Read an image from a file\n",
        "    image_string = tf.io.read_file(filename)\n",
        "    # Decode it into a dense vector\n",
        "    image_decoded = tf.image.decode_jpeg(image_string, channels=CHANNELS)\n",
        "    # Resize it to fixed shape\n",
        "    image_resized = tf.image.resize(image_decoded, [IMG_SIZE, IMG_SIZE])\n",
        "    # Normalize it from [0, 255] to [0.0, 1.0]\n",
        "    image_normalized = image_resized / 255.0\n",
        "    return image_normalized, label\n"
      ]
    },
    {
      "cell_type": "code",
      "execution_count": 35,
      "metadata": {},
      "outputs": [],
      "source": [
        "def create_dataset(filenames, labels, is_training=True):\n",
        "    \"\"\"Load and parse dataset.\n",
        "    Args:\n",
        "        filenames: list of image paths\n",
        "        labels: numpy array of shape (BATCH_SIZE, N_LABELS)\n",
        "        is_training: boolean to indicate training mode\n",
        "    \"\"\"\n",
        "    filenames=image_dir+filenames\n",
        "    \n",
        "\n",
        "    # Create a first dataset of file paths and labels\n",
        "    dataset = tf.data.Dataset.from_tensor_slices((filenames, labels))\n",
        "    # Parse and preprocess observations in parallel\n",
        "    dataset = dataset.map(parse_function, num_parallel_calls=AUTOTUNE)\n",
        "    dataset = dataset.map(lambda x, y: (x, y, print(x[0], flush=True)))\n",
        "\n",
        "        \n",
        "\n",
        "    if is_training == True:\n",
        "        # This is a small dataset, only load it once, and keep it in memory.\n",
        "        dataset = dataset.cache()\n",
        "        # Shuffle the data each buffer size\n",
        "        dataset = dataset.shuffle(buffer_size=SHUFFLE_BUFFER_SIZE)\n",
        "\n",
        "    # Batch the data for multiple steps\n",
        "    dataset = dataset.batch(BATCH_SIZE)\n",
        "    # Fetch batches in the background while the model is training.\n",
        "    dataset = dataset.prefetch(buffer_size=AUTOTUNE)\n",
        "\n",
        "    return dataset"
      ]
    },
    {
      "cell_type": "code",
      "execution_count": 36,
      "metadata": {
        "id": "IRysljQuRE1-"
      },
      "outputs": [
        {
          "name": "stdout",
          "output_type": "stream",
          "text": [
            "Tensor(\"strided_slice:0\", shape=(224, 3), dtype=float32)\n",
            "Tensor(\"strided_slice:0\", shape=(224, 3), dtype=float32)\n"
          ]
        }
      ],
      "source": [
        "train_ds1 = create_dataset(X_train, y_train_bin)\n",
        "val_ds1 = create_dataset(X_val, y_val_bin)"
      ]
    },
    {
      "cell_type": "markdown",
      "metadata": {
        "id": "BcNo0XR2RVn8"
      },
      "source": [
        "\n",
        "\n",
        "Each batch will be a pair of arrays (one that holds the features and another one that holds the labels).\n",
        "The features array will be of shape (BATCH_SIZE, IMG_SIZE, IMG_SIZE, CHANNELS).\n",
        "The labels array will be of shape (BATCH_SIZE, N_LABELS) where N_LABELS is the maximum number of labels.\n",
        "\n"
      ]
    },
    {
      "cell_type": "code",
      "execution_count": 37,
      "metadata": {
        "id": "GGaCiGaQRghv"
      },
      "outputs": [
        {
          "name": "stderr",
          "output_type": "stream",
          "text": [
            "INFO:absl:Using C:\\Users\\akhil\\AppData\\Local\\Temp\\tfhub_modules to cache modules.\n"
          ]
        }
      ],
      "source": [
        "import tensorflow_hub as hub\n",
        "from keras import layers\n",
        "\n",
        "feature_extractor_url = \"https://tfhub.dev/google/imagenet/mobilenet_v2_100_224/feature_vector/4\"\n",
        "feature_extractor_layer = hub.KerasLayer(feature_extractor_url,\n",
        "                                         input_shape=(IMG_SIZE,IMG_SIZE,CHANNELS))\n",
        "feature_extractor_layer.trainable = False"
      ]
    },
    {
      "cell_type": "code",
      "execution_count": 38,
      "metadata": {
        "colab": {
          "base_uri": "https://localhost:8080/"
        },
        "id": "PgUZaNnWTp-l",
        "outputId": "9d7a5728-2418-451b-904a-ffef428d954f"
      },
      "outputs": [
        {
          "name": "stdout",
          "output_type": "stream",
          "text": [
            "Model: \"sequential\"\n",
            "_________________________________________________________________\n",
            " Layer (type)                Output Shape              Param #   \n",
            "=================================================================\n",
            " keras_layer (KerasLayer)    (None, 1280)              2257984   \n",
            "                                                                 \n",
            " hidden_layer (Dense)        (None, 1024)              1311744   \n",
            "                                                                 \n",
            " output (Dense)              (None, 12)                12300     \n",
            "                                                                 \n",
            "=================================================================\n",
            "Total params: 3,582,028\n",
            "Trainable params: 1,324,044\n",
            "Non-trainable params: 2,257,984\n",
            "_________________________________________________________________\n"
          ]
        }
      ],
      "source": [
        "model = tf.keras.Sequential(\n",
        "    [feature_extractor_layer,\n",
        "    layers.Dense(1024, activation='relu', name='hidden_layer'),\n",
        "    layers.Dense(N_LABELS, activation='sigmoid', name='output')])\n",
        "\n",
        "model.summary()"
      ]
    },
    {
      "cell_type": "code",
      "execution_count": 39,
      "metadata": {
        "id": "mF6ZitpKEXL5"
      },
      "outputs": [],
      "source": [
        "@tf.function\n",
        "def macro_soft_f1(y, y_hat):\n",
        "    \"\"\"Compute the macro soft F1-score as a cost (average 1 - soft-F1 across all labels).\n",
        "    Use probability values instead of binary predictions.\n",
        "\n",
        "    Args:\n",
        "        y (int32 Tensor): targets array of shape (BATCH_SIZE, N_LABELS)\n",
        "        y_hat (float32 Tensor): probability matrix from forward propagation of shape (BATCH_SIZE, N_LABELS)\n",
        "\n",
        "    Returns:\n",
        "        cost (scalar Tensor): value of the cost function for the batch\n",
        "    \"\"\"\n",
        "    y = tf.cast(y, tf.float32)\n",
        "    y_hat = tf.cast(y_hat, tf.float32)\n",
        "    tp = tf.reduce_sum(y_hat * y, axis=0)\n",
        "    fp = tf.reduce_sum(y_hat * (1 - y), axis=0)\n",
        "    fn = tf.reduce_sum((1 - y_hat) * y, axis=0)\n",
        "    soft_f1 = 2*tp / (2*tp + fn + fp + 1e-16)\n",
        "    cost = 1 - soft_f1 # reduce 1 - soft-f1 in order to increase soft-f1\n",
        "    macro_cost = tf.reduce_mean(cost) # average on all labels\n",
        "    return macro_cost\n",
        "\n",
        "\n",
        "@tf.function\n",
        "def macro_f1(y, y_hat, thresh=0.5):\n",
        "    \"\"\"Compute the macro F1-score on a batch of observations (average F1 across labels)\n",
        "\n",
        "    Args:\n",
        "        y (int32 Tensor): labels array of shape (BATCH_SIZE, N_LABELS)\n",
        "        y_hat (float32 Tensor): probability matrix from forward propagation of shape (BATCH_SIZE, N_LABELS)\n",
        "        thresh: probability value above which we predict positive\n",
        "\n",
        "    Returns:\n",
        "        macro_f1 (scalar Tensor): value of macro F1 for the batch\n",
        "    \"\"\"\n",
        "    y_pred = tf.cast(tf.greater(y_hat, thresh), tf.float32)\n",
        "    tp = tf.cast(tf.math.count_nonzero(y_pred * y, axis=0), tf.float32)\n",
        "    fp = tf.cast(tf.math.count_nonzero(y_pred * (1 - y), axis=0), tf.float32)\n",
        "    fn = tf.cast(tf.math.count_nonzero((1 - y_pred) * y, axis=0), tf.float32)\n",
        "    f1 = 2*tp / (2*tp + fn + fp + 1e-16)\n",
        "    macro_f1 = tf.reduce_mean(f1)\n",
        "    return macro_f1"
      ]
    },
    {
      "cell_type": "code",
      "execution_count": 41,
      "metadata": {
        "colab": {
          "base_uri": "https://localhost:8080/"
        },
        "id": "Z79DO-MqEq__",
        "outputId": "e81dc397-d486-4832-b555-0867506ae3b2"
      },
      "outputs": [
        {
          "name": "stdout",
          "output_type": "stream",
          "text": [
            "Tensor(\"strided_slice:0\", shape=(224, 3), dtype=float32)\n",
            "Epoch 1/100\n",
            "2/2 [==============================] - ETA: 0s - loss: 0.2699 - macro_f1: 0.9293"
          ]
        },
        {
          "name": "stderr",
          "output_type": "stream",
          "text": [
            "WARNING:tensorflow:`evaluate()` received a value for `sample_weight`, but `weighted_metrics` were not provided.  Did you mean to pass metrics to `weighted_metrics` in `compile()`?  If this is intentional you can pass `weighted_metrics=[]` to `compile()` in order to silence this warning.\n"
          ]
        },
        {
          "name": "stdout",
          "output_type": "stream",
          "text": [
            "2/2 [==============================] - 3s 1s/step - loss: 0.2699 - macro_f1: 0.9293 - val_loss: 0.3032 - val_macro_f1: 0.8743\n",
            "Epoch 2/100\n",
            "2/2 [==============================] - ETA: 0s - loss: 0.2504 - macro_f1: 0.9417"
          ]
        },
        {
          "name": "stderr",
          "output_type": "stream",
          "text": [
            "WARNING:tensorflow:`evaluate()` received a value for `sample_weight`, but `weighted_metrics` were not provided.  Did you mean to pass metrics to `weighted_metrics` in `compile()`?  If this is intentional you can pass `weighted_metrics=[]` to `compile()` in order to silence this warning.\n"
          ]
        },
        {
          "name": "stdout",
          "output_type": "stream",
          "text": [
            "2/2 [==============================] - 1s 470ms/step - loss: 0.2504 - macro_f1: 0.9417 - val_loss: 0.2869 - val_macro_f1: 0.8948\n",
            "Epoch 3/100\n",
            "2/2 [==============================] - ETA: 0s - loss: 0.2349 - macro_f1: 0.9465"
          ]
        },
        {
          "name": "stderr",
          "output_type": "stream",
          "text": [
            "WARNING:tensorflow:`evaluate()` received a value for `sample_weight`, but `weighted_metrics` were not provided.  Did you mean to pass metrics to `weighted_metrics` in `compile()`?  If this is intentional you can pass `weighted_metrics=[]` to `compile()` in order to silence this warning.\n"
          ]
        },
        {
          "name": "stdout",
          "output_type": "stream",
          "text": [
            "2/2 [==============================] - 1s 469ms/step - loss: 0.2349 - macro_f1: 0.9465 - val_loss: 0.2702 - val_macro_f1: 0.9025\n",
            "Epoch 4/100\n",
            "2/2 [==============================] - ETA: 0s - loss: 0.2162 - macro_f1: 0.9531"
          ]
        },
        {
          "name": "stderr",
          "output_type": "stream",
          "text": [
            "WARNING:tensorflow:`evaluate()` received a value for `sample_weight`, but `weighted_metrics` were not provided.  Did you mean to pass metrics to `weighted_metrics` in `compile()`?  If this is intentional you can pass `weighted_metrics=[]` to `compile()` in order to silence this warning.\n"
          ]
        },
        {
          "name": "stdout",
          "output_type": "stream",
          "text": [
            "2/2 [==============================] - 1s 467ms/step - loss: 0.2162 - macro_f1: 0.9531 - val_loss: 0.2548 - val_macro_f1: 0.9025\n",
            "Epoch 5/100\n",
            "2/2 [==============================] - ETA: 0s - loss: 0.2007 - macro_f1: 0.9515"
          ]
        },
        {
          "name": "stderr",
          "output_type": "stream",
          "text": [
            "WARNING:tensorflow:`evaluate()` received a value for `sample_weight`, but `weighted_metrics` were not provided.  Did you mean to pass metrics to `weighted_metrics` in `compile()`?  If this is intentional you can pass `weighted_metrics=[]` to `compile()` in order to silence this warning.\n"
          ]
        },
        {
          "name": "stdout",
          "output_type": "stream",
          "text": [
            "2/2 [==============================] - 1s 470ms/step - loss: 0.2007 - macro_f1: 0.9515 - val_loss: 0.2399 - val_macro_f1: 0.9127\n",
            "Epoch 6/100\n",
            "2/2 [==============================] - ETA: 0s - loss: 0.1869 - macro_f1: 0.9593"
          ]
        },
        {
          "name": "stderr",
          "output_type": "stream",
          "text": [
            "WARNING:tensorflow:`evaluate()` received a value for `sample_weight`, but `weighted_metrics` were not provided.  Did you mean to pass metrics to `weighted_metrics` in `compile()`?  If this is intentional you can pass `weighted_metrics=[]` to `compile()` in order to silence this warning.\n"
          ]
        },
        {
          "name": "stdout",
          "output_type": "stream",
          "text": [
            "2/2 [==============================] - 1s 470ms/step - loss: 0.1869 - macro_f1: 0.9593 - val_loss: 0.2251 - val_macro_f1: 0.9194\n",
            "Epoch 7/100\n",
            "2/2 [==============================] - ETA: 0s - loss: 0.1730 - macro_f1: 0.9719"
          ]
        },
        {
          "name": "stderr",
          "output_type": "stream",
          "text": [
            "WARNING:tensorflow:`evaluate()` received a value for `sample_weight`, but `weighted_metrics` were not provided.  Did you mean to pass metrics to `weighted_metrics` in `compile()`?  If this is intentional you can pass `weighted_metrics=[]` to `compile()` in order to silence this warning.\n"
          ]
        },
        {
          "name": "stdout",
          "output_type": "stream",
          "text": [
            "2/2 [==============================] - 1s 466ms/step - loss: 0.1730 - macro_f1: 0.9719 - val_loss: 0.2112 - val_macro_f1: 0.9357\n",
            "Epoch 8/100\n",
            "2/2 [==============================] - ETA: 0s - loss: 0.1603 - macro_f1: 0.9774"
          ]
        },
        {
          "name": "stderr",
          "output_type": "stream",
          "text": [
            "WARNING:tensorflow:`evaluate()` received a value for `sample_weight`, but `weighted_metrics` were not provided.  Did you mean to pass metrics to `weighted_metrics` in `compile()`?  If this is intentional you can pass `weighted_metrics=[]` to `compile()` in order to silence this warning.\n"
          ]
        },
        {
          "name": "stdout",
          "output_type": "stream",
          "text": [
            "2/2 [==============================] - 1s 476ms/step - loss: 0.1603 - macro_f1: 0.9774 - val_loss: 0.1993 - val_macro_f1: 0.9417\n",
            "Epoch 9/100\n",
            "2/2 [==============================] - ETA: 0s - loss: 0.1496 - macro_f1: 0.9769"
          ]
        },
        {
          "name": "stderr",
          "output_type": "stream",
          "text": [
            "WARNING:tensorflow:`evaluate()` received a value for `sample_weight`, but `weighted_metrics` were not provided.  Did you mean to pass metrics to `weighted_metrics` in `compile()`?  If this is intentional you can pass `weighted_metrics=[]` to `compile()` in order to silence this warning.\n"
          ]
        },
        {
          "name": "stdout",
          "output_type": "stream",
          "text": [
            "2/2 [==============================] - 1s 468ms/step - loss: 0.1496 - macro_f1: 0.9769 - val_loss: 0.1881 - val_macro_f1: 0.9404\n",
            "Epoch 10/100\n",
            "2/2 [==============================] - ETA: 0s - loss: 0.1379 - macro_f1: 0.9763"
          ]
        },
        {
          "name": "stderr",
          "output_type": "stream",
          "text": [
            "WARNING:tensorflow:`evaluate()` received a value for `sample_weight`, but `weighted_metrics` were not provided.  Did you mean to pass metrics to `weighted_metrics` in `compile()`?  If this is intentional you can pass `weighted_metrics=[]` to `compile()` in order to silence this warning.\n"
          ]
        },
        {
          "name": "stdout",
          "output_type": "stream",
          "text": [
            "2/2 [==============================] - 1s 468ms/step - loss: 0.1379 - macro_f1: 0.9763 - val_loss: 0.1772 - val_macro_f1: 0.9492\n",
            "Epoch 11/100\n",
            "2/2 [==============================] - ETA: 0s - loss: 0.1287 - macro_f1: 0.9785"
          ]
        },
        {
          "name": "stderr",
          "output_type": "stream",
          "text": [
            "WARNING:tensorflow:`evaluate()` received a value for `sample_weight`, but `weighted_metrics` were not provided.  Did you mean to pass metrics to `weighted_metrics` in `compile()`?  If this is intentional you can pass `weighted_metrics=[]` to `compile()` in order to silence this warning.\n"
          ]
        },
        {
          "name": "stdout",
          "output_type": "stream",
          "text": [
            "2/2 [==============================] - 1s 468ms/step - loss: 0.1287 - macro_f1: 0.9785 - val_loss: 0.1668 - val_macro_f1: 0.9492\n",
            "Epoch 12/100\n",
            "2/2 [==============================] - ETA: 0s - loss: 0.1193 - macro_f1: 0.9821"
          ]
        },
        {
          "name": "stderr",
          "output_type": "stream",
          "text": [
            "WARNING:tensorflow:`evaluate()` received a value for `sample_weight`, but `weighted_metrics` were not provided.  Did you mean to pass metrics to `weighted_metrics` in `compile()`?  If this is intentional you can pass `weighted_metrics=[]` to `compile()` in order to silence this warning.\n"
          ]
        },
        {
          "name": "stdout",
          "output_type": "stream",
          "text": [
            "2/2 [==============================] - 1s 467ms/step - loss: 0.1193 - macro_f1: 0.9821 - val_loss: 0.1568 - val_macro_f1: 0.9573\n",
            "Epoch 13/100\n",
            "2/2 [==============================] - ETA: 0s - loss: 0.1120 - macro_f1: 0.9840"
          ]
        },
        {
          "name": "stderr",
          "output_type": "stream",
          "text": [
            "WARNING:tensorflow:`evaluate()` received a value for `sample_weight`, but `weighted_metrics` were not provided.  Did you mean to pass metrics to `weighted_metrics` in `compile()`?  If this is intentional you can pass `weighted_metrics=[]` to `compile()` in order to silence this warning.\n"
          ]
        },
        {
          "name": "stdout",
          "output_type": "stream",
          "text": [
            "2/2 [==============================] - 1s 471ms/step - loss: 0.1120 - macro_f1: 0.9840 - val_loss: 0.1474 - val_macro_f1: 0.9621\n",
            "Epoch 14/100\n",
            "2/2 [==============================] - ETA: 0s - loss: 0.1043 - macro_f1: 0.9843"
          ]
        },
        {
          "name": "stderr",
          "output_type": "stream",
          "text": [
            "WARNING:tensorflow:`evaluate()` received a value for `sample_weight`, but `weighted_metrics` were not provided.  Did you mean to pass metrics to `weighted_metrics` in `compile()`?  If this is intentional you can pass `weighted_metrics=[]` to `compile()` in order to silence this warning.\n"
          ]
        },
        {
          "name": "stdout",
          "output_type": "stream",
          "text": [
            "2/2 [==============================] - 1s 471ms/step - loss: 0.1043 - macro_f1: 0.9843 - val_loss: 0.1393 - val_macro_f1: 0.9649\n",
            "Epoch 15/100\n",
            "2/2 [==============================] - ETA: 0s - loss: 0.0963 - macro_f1: 0.9877"
          ]
        },
        {
          "name": "stderr",
          "output_type": "stream",
          "text": [
            "WARNING:tensorflow:`evaluate()` received a value for `sample_weight`, but `weighted_metrics` were not provided.  Did you mean to pass metrics to `weighted_metrics` in `compile()`?  If this is intentional you can pass `weighted_metrics=[]` to `compile()` in order to silence this warning.\n"
          ]
        },
        {
          "name": "stdout",
          "output_type": "stream",
          "text": [
            "2/2 [==============================] - 1s 472ms/step - loss: 0.0963 - macro_f1: 0.9877 - val_loss: 0.1317 - val_macro_f1: 0.9694\n",
            "Epoch 16/100\n",
            "2/2 [==============================] - ETA: 0s - loss: 0.0902 - macro_f1: 0.9895"
          ]
        },
        {
          "name": "stderr",
          "output_type": "stream",
          "text": [
            "WARNING:tensorflow:`evaluate()` received a value for `sample_weight`, but `weighted_metrics` were not provided.  Did you mean to pass metrics to `weighted_metrics` in `compile()`?  If this is intentional you can pass `weighted_metrics=[]` to `compile()` in order to silence this warning.\n"
          ]
        },
        {
          "name": "stdout",
          "output_type": "stream",
          "text": [
            "2/2 [==============================] - 1s 472ms/step - loss: 0.0902 - macro_f1: 0.9895 - val_loss: 0.1245 - val_macro_f1: 0.9694\n",
            "Epoch 17/100\n",
            "2/2 [==============================] - ETA: 0s - loss: 0.0846 - macro_f1: 0.9897"
          ]
        },
        {
          "name": "stderr",
          "output_type": "stream",
          "text": [
            "WARNING:tensorflow:`evaluate()` received a value for `sample_weight`, but `weighted_metrics` were not provided.  Did you mean to pass metrics to `weighted_metrics` in `compile()`?  If this is intentional you can pass `weighted_metrics=[]` to `compile()` in order to silence this warning.\n"
          ]
        },
        {
          "name": "stdout",
          "output_type": "stream",
          "text": [
            "2/2 [==============================] - 1s 469ms/step - loss: 0.0846 - macro_f1: 0.9897 - val_loss: 0.1179 - val_macro_f1: 0.9694\n",
            "Epoch 18/100\n",
            "2/2 [==============================] - ETA: 0s - loss: 0.0791 - macro_f1: 0.9897"
          ]
        },
        {
          "name": "stderr",
          "output_type": "stream",
          "text": [
            "WARNING:tensorflow:`evaluate()` received a value for `sample_weight`, but `weighted_metrics` were not provided.  Did you mean to pass metrics to `weighted_metrics` in `compile()`?  If this is intentional you can pass `weighted_metrics=[]` to `compile()` in order to silence this warning.\n"
          ]
        },
        {
          "name": "stdout",
          "output_type": "stream",
          "text": [
            "2/2 [==============================] - 1s 477ms/step - loss: 0.0791 - macro_f1: 0.9897 - val_loss: 0.1117 - val_macro_f1: 0.9694\n",
            "Epoch 19/100\n",
            "2/2 [==============================] - ETA: 0s - loss: 0.0747 - macro_f1: 0.9881"
          ]
        },
        {
          "name": "stderr",
          "output_type": "stream",
          "text": [
            "WARNING:tensorflow:`evaluate()` received a value for `sample_weight`, but `weighted_metrics` were not provided.  Did you mean to pass metrics to `weighted_metrics` in `compile()`?  If this is intentional you can pass `weighted_metrics=[]` to `compile()` in order to silence this warning.\n"
          ]
        },
        {
          "name": "stdout",
          "output_type": "stream",
          "text": [
            "2/2 [==============================] - 1s 466ms/step - loss: 0.0747 - macro_f1: 0.9881 - val_loss: 0.1062 - val_macro_f1: 0.9694\n",
            "Epoch 20/100\n",
            "2/2 [==============================] - ETA: 0s - loss: 0.0700 - macro_f1: 0.9901"
          ]
        },
        {
          "name": "stderr",
          "output_type": "stream",
          "text": [
            "WARNING:tensorflow:`evaluate()` received a value for `sample_weight`, but `weighted_metrics` were not provided.  Did you mean to pass metrics to `weighted_metrics` in `compile()`?  If this is intentional you can pass `weighted_metrics=[]` to `compile()` in order to silence this warning.\n"
          ]
        },
        {
          "name": "stdout",
          "output_type": "stream",
          "text": [
            "2/2 [==============================] - 1s 468ms/step - loss: 0.0700 - macro_f1: 0.9901 - val_loss: 0.1012 - val_macro_f1: 0.9694\n",
            "Epoch 21/100\n",
            "2/2 [==============================] - ETA: 0s - loss: 0.0658 - macro_f1: 0.9915"
          ]
        },
        {
          "name": "stderr",
          "output_type": "stream",
          "text": [
            "WARNING:tensorflow:`evaluate()` received a value for `sample_weight`, but `weighted_metrics` were not provided.  Did you mean to pass metrics to `weighted_metrics` in `compile()`?  If this is intentional you can pass `weighted_metrics=[]` to `compile()` in order to silence this warning.\n"
          ]
        },
        {
          "name": "stdout",
          "output_type": "stream",
          "text": [
            "2/2 [==============================] - 1s 469ms/step - loss: 0.0658 - macro_f1: 0.9915 - val_loss: 0.0966 - val_macro_f1: 0.9734\n",
            "Epoch 22/100\n",
            "2/2 [==============================] - ETA: 0s - loss: 0.0618 - macro_f1: 0.9905"
          ]
        },
        {
          "name": "stderr",
          "output_type": "stream",
          "text": [
            "WARNING:tensorflow:`evaluate()` received a value for `sample_weight`, but `weighted_metrics` were not provided.  Did you mean to pass metrics to `weighted_metrics` in `compile()`?  If this is intentional you can pass `weighted_metrics=[]` to `compile()` in order to silence this warning.\n"
          ]
        },
        {
          "name": "stdout",
          "output_type": "stream",
          "text": [
            "2/2 [==============================] - 1s 468ms/step - loss: 0.0618 - macro_f1: 0.9905 - val_loss: 0.0921 - val_macro_f1: 0.9734\n",
            "Epoch 23/100\n",
            "2/2 [==============================] - ETA: 0s - loss: 0.0583 - macro_f1: 0.9900"
          ]
        },
        {
          "name": "stderr",
          "output_type": "stream",
          "text": [
            "WARNING:tensorflow:`evaluate()` received a value for `sample_weight`, but `weighted_metrics` were not provided.  Did you mean to pass metrics to `weighted_metrics` in `compile()`?  If this is intentional you can pass `weighted_metrics=[]` to `compile()` in order to silence this warning.\n"
          ]
        },
        {
          "name": "stdout",
          "output_type": "stream",
          "text": [
            "2/2 [==============================] - 1s 471ms/step - loss: 0.0583 - macro_f1: 0.9900 - val_loss: 0.0875 - val_macro_f1: 0.9757\n",
            "Epoch 24/100\n",
            "2/2 [==============================] - ETA: 0s - loss: 0.0554 - macro_f1: 0.9907"
          ]
        },
        {
          "name": "stderr",
          "output_type": "stream",
          "text": [
            "WARNING:tensorflow:`evaluate()` received a value for `sample_weight`, but `weighted_metrics` were not provided.  Did you mean to pass metrics to `weighted_metrics` in `compile()`?  If this is intentional you can pass `weighted_metrics=[]` to `compile()` in order to silence this warning.\n"
          ]
        },
        {
          "name": "stdout",
          "output_type": "stream",
          "text": [
            "2/2 [==============================] - 1s 472ms/step - loss: 0.0554 - macro_f1: 0.9907 - val_loss: 0.0835 - val_macro_f1: 0.9757\n",
            "Epoch 25/100\n",
            "2/2 [==============================] - ETA: 0s - loss: 0.0524 - macro_f1: 0.9921"
          ]
        },
        {
          "name": "stderr",
          "output_type": "stream",
          "text": [
            "WARNING:tensorflow:`evaluate()` received a value for `sample_weight`, but `weighted_metrics` were not provided.  Did you mean to pass metrics to `weighted_metrics` in `compile()`?  If this is intentional you can pass `weighted_metrics=[]` to `compile()` in order to silence this warning.\n"
          ]
        },
        {
          "name": "stdout",
          "output_type": "stream",
          "text": [
            "2/2 [==============================] - 1s 466ms/step - loss: 0.0524 - macro_f1: 0.9921 - val_loss: 0.0798 - val_macro_f1: 0.9780\n",
            "Epoch 26/100\n",
            "2/2 [==============================] - ETA: 0s - loss: 0.0502 - macro_f1: 0.9905"
          ]
        },
        {
          "name": "stderr",
          "output_type": "stream",
          "text": [
            "WARNING:tensorflow:`evaluate()` received a value for `sample_weight`, but `weighted_metrics` were not provided.  Did you mean to pass metrics to `weighted_metrics` in `compile()`?  If this is intentional you can pass `weighted_metrics=[]` to `compile()` in order to silence this warning.\n"
          ]
        },
        {
          "name": "stdout",
          "output_type": "stream",
          "text": [
            "2/2 [==============================] - 1s 464ms/step - loss: 0.0502 - macro_f1: 0.9905 - val_loss: 0.0765 - val_macro_f1: 0.9805\n",
            "Epoch 27/100\n",
            "2/2 [==============================] - ETA: 0s - loss: 0.0474 - macro_f1: 0.9925"
          ]
        },
        {
          "name": "stderr",
          "output_type": "stream",
          "text": [
            "WARNING:tensorflow:`evaluate()` received a value for `sample_weight`, but `weighted_metrics` were not provided.  Did you mean to pass metrics to `weighted_metrics` in `compile()`?  If this is intentional you can pass `weighted_metrics=[]` to `compile()` in order to silence this warning.\n"
          ]
        },
        {
          "name": "stdout",
          "output_type": "stream",
          "text": [
            "2/2 [==============================] - 1s 468ms/step - loss: 0.0474 - macro_f1: 0.9925 - val_loss: 0.0733 - val_macro_f1: 0.9850\n",
            "Epoch 28/100\n",
            "2/2 [==============================] - ETA: 0s - loss: 0.0452 - macro_f1: 0.9940"
          ]
        },
        {
          "name": "stderr",
          "output_type": "stream",
          "text": [
            "WARNING:tensorflow:`evaluate()` received a value for `sample_weight`, but `weighted_metrics` were not provided.  Did you mean to pass metrics to `weighted_metrics` in `compile()`?  If this is intentional you can pass `weighted_metrics=[]` to `compile()` in order to silence this warning.\n"
          ]
        },
        {
          "name": "stdout",
          "output_type": "stream",
          "text": [
            "2/2 [==============================] - 1s 469ms/step - loss: 0.0452 - macro_f1: 0.9940 - val_loss: 0.0701 - val_macro_f1: 0.9872\n",
            "Epoch 29/100\n",
            "2/2 [==============================] - ETA: 0s - loss: 0.0431 - macro_f1: 0.9942"
          ]
        },
        {
          "name": "stderr",
          "output_type": "stream",
          "text": [
            "WARNING:tensorflow:`evaluate()` received a value for `sample_weight`, but `weighted_metrics` were not provided.  Did you mean to pass metrics to `weighted_metrics` in `compile()`?  If this is intentional you can pass `weighted_metrics=[]` to `compile()` in order to silence this warning.\n"
          ]
        },
        {
          "name": "stdout",
          "output_type": "stream",
          "text": [
            "2/2 [==============================] - 1s 471ms/step - loss: 0.0431 - macro_f1: 0.9942 - val_loss: 0.0674 - val_macro_f1: 0.9872\n",
            "Epoch 30/100\n",
            "2/2 [==============================] - ETA: 0s - loss: 0.0407 - macro_f1: 0.9946"
          ]
        },
        {
          "name": "stderr",
          "output_type": "stream",
          "text": [
            "WARNING:tensorflow:`evaluate()` received a value for `sample_weight`, but `weighted_metrics` were not provided.  Did you mean to pass metrics to `weighted_metrics` in `compile()`?  If this is intentional you can pass `weighted_metrics=[]` to `compile()` in order to silence this warning.\n"
          ]
        },
        {
          "name": "stdout",
          "output_type": "stream",
          "text": [
            "2/2 [==============================] - 1s 472ms/step - loss: 0.0407 - macro_f1: 0.9946 - val_loss: 0.0649 - val_macro_f1: 0.9872\n",
            "Epoch 31/100\n",
            "2/2 [==============================] - ETA: 0s - loss: 0.0392 - macro_f1: 0.9945"
          ]
        },
        {
          "name": "stderr",
          "output_type": "stream",
          "text": [
            "WARNING:tensorflow:`evaluate()` received a value for `sample_weight`, but `weighted_metrics` were not provided.  Did you mean to pass metrics to `weighted_metrics` in `compile()`?  If this is intentional you can pass `weighted_metrics=[]` to `compile()` in order to silence this warning.\n"
          ]
        },
        {
          "name": "stdout",
          "output_type": "stream",
          "text": [
            "2/2 [==============================] - 1s 464ms/step - loss: 0.0392 - macro_f1: 0.9945 - val_loss: 0.0625 - val_macro_f1: 0.9872\n",
            "Epoch 32/100\n",
            "2/2 [==============================] - ETA: 0s - loss: 0.0369 - macro_f1: 0.9948"
          ]
        },
        {
          "name": "stderr",
          "output_type": "stream",
          "text": [
            "WARNING:tensorflow:`evaluate()` received a value for `sample_weight`, but `weighted_metrics` were not provided.  Did you mean to pass metrics to `weighted_metrics` in `compile()`?  If this is intentional you can pass `weighted_metrics=[]` to `compile()` in order to silence this warning.\n"
          ]
        },
        {
          "name": "stdout",
          "output_type": "stream",
          "text": [
            "2/2 [==============================] - 1s 472ms/step - loss: 0.0369 - macro_f1: 0.9948 - val_loss: 0.0598 - val_macro_f1: 0.9893\n",
            "Epoch 33/100\n",
            "2/2 [==============================] - ETA: 0s - loss: 0.0353 - macro_f1: 0.9954"
          ]
        },
        {
          "name": "stderr",
          "output_type": "stream",
          "text": [
            "WARNING:tensorflow:`evaluate()` received a value for `sample_weight`, but `weighted_metrics` were not provided.  Did you mean to pass metrics to `weighted_metrics` in `compile()`?  If this is intentional you can pass `weighted_metrics=[]` to `compile()` in order to silence this warning.\n"
          ]
        },
        {
          "name": "stdout",
          "output_type": "stream",
          "text": [
            "2/2 [==============================] - 1s 467ms/step - loss: 0.0353 - macro_f1: 0.9954 - val_loss: 0.0573 - val_macro_f1: 0.9893\n",
            "Epoch 34/100\n",
            "2/2 [==============================] - ETA: 0s - loss: 0.0336 - macro_f1: 0.9960"
          ]
        },
        {
          "name": "stderr",
          "output_type": "stream",
          "text": [
            "WARNING:tensorflow:`evaluate()` received a value for `sample_weight`, but `weighted_metrics` were not provided.  Did you mean to pass metrics to `weighted_metrics` in `compile()`?  If this is intentional you can pass `weighted_metrics=[]` to `compile()` in order to silence this warning.\n"
          ]
        },
        {
          "name": "stdout",
          "output_type": "stream",
          "text": [
            "2/2 [==============================] - 1s 467ms/step - loss: 0.0336 - macro_f1: 0.9960 - val_loss: 0.0551 - val_macro_f1: 0.9953\n",
            "Epoch 35/100\n",
            "2/2 [==============================] - ETA: 0s - loss: 0.0322 - macro_f1: 0.9971"
          ]
        },
        {
          "name": "stderr",
          "output_type": "stream",
          "text": [
            "WARNING:tensorflow:`evaluate()` received a value for `sample_weight`, but `weighted_metrics` were not provided.  Did you mean to pass metrics to `weighted_metrics` in `compile()`?  If this is intentional you can pass `weighted_metrics=[]` to `compile()` in order to silence this warning.\n"
          ]
        },
        {
          "name": "stdout",
          "output_type": "stream",
          "text": [
            "2/2 [==============================] - 1s 468ms/step - loss: 0.0322 - macro_f1: 0.9971 - val_loss: 0.0533 - val_macro_f1: 0.9953\n",
            "Epoch 36/100\n",
            "2/2 [==============================] - ETA: 0s - loss: 0.0304 - macro_f1: 0.9974"
          ]
        },
        {
          "name": "stderr",
          "output_type": "stream",
          "text": [
            "WARNING:tensorflow:`evaluate()` received a value for `sample_weight`, but `weighted_metrics` were not provided.  Did you mean to pass metrics to `weighted_metrics` in `compile()`?  If this is intentional you can pass `weighted_metrics=[]` to `compile()` in order to silence this warning.\n"
          ]
        },
        {
          "name": "stdout",
          "output_type": "stream",
          "text": [
            "2/2 [==============================] - 1s 467ms/step - loss: 0.0304 - macro_f1: 0.9974 - val_loss: 0.0513 - val_macro_f1: 0.9980\n",
            "Epoch 37/100\n",
            "2/2 [==============================] - ETA: 0s - loss: 0.0291 - macro_f1: 0.9987"
          ]
        },
        {
          "name": "stderr",
          "output_type": "stream",
          "text": [
            "WARNING:tensorflow:`evaluate()` received a value for `sample_weight`, but `weighted_metrics` were not provided.  Did you mean to pass metrics to `weighted_metrics` in `compile()`?  If this is intentional you can pass `weighted_metrics=[]` to `compile()` in order to silence this warning.\n"
          ]
        },
        {
          "name": "stdout",
          "output_type": "stream",
          "text": [
            "2/2 [==============================] - 1s 468ms/step - loss: 0.0291 - macro_f1: 0.9987 - val_loss: 0.0493 - val_macro_f1: 0.9980\n",
            "Epoch 38/100\n",
            "2/2 [==============================] - ETA: 0s - loss: 0.0277 - macro_f1: 0.9988"
          ]
        },
        {
          "name": "stderr",
          "output_type": "stream",
          "text": [
            "WARNING:tensorflow:`evaluate()` received a value for `sample_weight`, but `weighted_metrics` were not provided.  Did you mean to pass metrics to `weighted_metrics` in `compile()`?  If this is intentional you can pass `weighted_metrics=[]` to `compile()` in order to silence this warning.\n"
          ]
        },
        {
          "name": "stdout",
          "output_type": "stream",
          "text": [
            "2/2 [==============================] - 1s 479ms/step - loss: 0.0277 - macro_f1: 0.9988 - val_loss: 0.0472 - val_macro_f1: 0.9980\n",
            "Epoch 39/100\n",
            "2/2 [==============================] - ETA: 0s - loss: 0.0267 - macro_f1: 0.9988"
          ]
        },
        {
          "name": "stderr",
          "output_type": "stream",
          "text": [
            "WARNING:tensorflow:`evaluate()` received a value for `sample_weight`, but `weighted_metrics` were not provided.  Did you mean to pass metrics to `weighted_metrics` in `compile()`?  If this is intentional you can pass `weighted_metrics=[]` to `compile()` in order to silence this warning.\n"
          ]
        },
        {
          "name": "stdout",
          "output_type": "stream",
          "text": [
            "2/2 [==============================] - 1s 468ms/step - loss: 0.0267 - macro_f1: 0.9988 - val_loss: 0.0454 - val_macro_f1: 0.9980\n",
            "Epoch 40/100\n",
            "2/2 [==============================] - ETA: 0s - loss: 0.0256 - macro_f1: 0.9981"
          ]
        },
        {
          "name": "stderr",
          "output_type": "stream",
          "text": [
            "WARNING:tensorflow:`evaluate()` received a value for `sample_weight`, but `weighted_metrics` were not provided.  Did you mean to pass metrics to `weighted_metrics` in `compile()`?  If this is intentional you can pass `weighted_metrics=[]` to `compile()` in order to silence this warning.\n"
          ]
        },
        {
          "name": "stdout",
          "output_type": "stream",
          "text": [
            "2/2 [==============================] - 1s 471ms/step - loss: 0.0256 - macro_f1: 0.9981 - val_loss: 0.0439 - val_macro_f1: 0.9980\n",
            "Epoch 41/100\n",
            "2/2 [==============================] - ETA: 0s - loss: 0.0244 - macro_f1: 0.9983"
          ]
        },
        {
          "name": "stderr",
          "output_type": "stream",
          "text": [
            "WARNING:tensorflow:`evaluate()` received a value for `sample_weight`, but `weighted_metrics` were not provided.  Did you mean to pass metrics to `weighted_metrics` in `compile()`?  If this is intentional you can pass `weighted_metrics=[]` to `compile()` in order to silence this warning.\n"
          ]
        },
        {
          "name": "stdout",
          "output_type": "stream",
          "text": [
            "2/2 [==============================] - 1s 470ms/step - loss: 0.0244 - macro_f1: 0.9983 - val_loss: 0.0427 - val_macro_f1: 0.9980\n",
            "Epoch 42/100\n",
            "2/2 [==============================] - ETA: 0s - loss: 0.0238 - macro_f1: 0.9979"
          ]
        },
        {
          "name": "stderr",
          "output_type": "stream",
          "text": [
            "WARNING:tensorflow:`evaluate()` received a value for `sample_weight`, but `weighted_metrics` were not provided.  Did you mean to pass metrics to `weighted_metrics` in `compile()`?  If this is intentional you can pass `weighted_metrics=[]` to `compile()` in order to silence this warning.\n"
          ]
        },
        {
          "name": "stdout",
          "output_type": "stream",
          "text": [
            "2/2 [==============================] - 1s 468ms/step - loss: 0.0238 - macro_f1: 0.9979 - val_loss: 0.0416 - val_macro_f1: 0.9980\n",
            "Epoch 43/100\n",
            "2/2 [==============================] - ETA: 0s - loss: 0.0226 - macro_f1: 0.9988"
          ]
        },
        {
          "name": "stderr",
          "output_type": "stream",
          "text": [
            "WARNING:tensorflow:`evaluate()` received a value for `sample_weight`, but `weighted_metrics` were not provided.  Did you mean to pass metrics to `weighted_metrics` in `compile()`?  If this is intentional you can pass `weighted_metrics=[]` to `compile()` in order to silence this warning.\n"
          ]
        },
        {
          "name": "stdout",
          "output_type": "stream",
          "text": [
            "2/2 [==============================] - 1s 470ms/step - loss: 0.0226 - macro_f1: 0.9988 - val_loss: 0.0402 - val_macro_f1: 0.9980\n",
            "Epoch 44/100\n",
            "2/2 [==============================] - ETA: 0s - loss: 0.0218 - macro_f1: 0.9982"
          ]
        },
        {
          "name": "stderr",
          "output_type": "stream",
          "text": [
            "WARNING:tensorflow:`evaluate()` received a value for `sample_weight`, but `weighted_metrics` were not provided.  Did you mean to pass metrics to `weighted_metrics` in `compile()`?  If this is intentional you can pass `weighted_metrics=[]` to `compile()` in order to silence this warning.\n"
          ]
        },
        {
          "name": "stdout",
          "output_type": "stream",
          "text": [
            "2/2 [==============================] - 1s 471ms/step - loss: 0.0218 - macro_f1: 0.9982 - val_loss: 0.0388 - val_macro_f1: 0.9980\n",
            "Epoch 45/100\n",
            "2/2 [==============================] - ETA: 0s - loss: 0.0210 - macro_f1: 0.9983"
          ]
        },
        {
          "name": "stderr",
          "output_type": "stream",
          "text": [
            "WARNING:tensorflow:`evaluate()` received a value for `sample_weight`, but `weighted_metrics` were not provided.  Did you mean to pass metrics to `weighted_metrics` in `compile()`?  If this is intentional you can pass `weighted_metrics=[]` to `compile()` in order to silence this warning.\n"
          ]
        },
        {
          "name": "stdout",
          "output_type": "stream",
          "text": [
            "2/2 [==============================] - 1s 473ms/step - loss: 0.0210 - macro_f1: 0.9983 - val_loss: 0.0373 - val_macro_f1: 0.9980\n",
            "Epoch 46/100\n",
            "2/2 [==============================] - ETA: 0s - loss: 0.0206 - macro_f1: 0.9976"
          ]
        },
        {
          "name": "stderr",
          "output_type": "stream",
          "text": [
            "WARNING:tensorflow:`evaluate()` received a value for `sample_weight`, but `weighted_metrics` were not provided.  Did you mean to pass metrics to `weighted_metrics` in `compile()`?  If this is intentional you can pass `weighted_metrics=[]` to `compile()` in order to silence this warning.\n"
          ]
        },
        {
          "name": "stdout",
          "output_type": "stream",
          "text": [
            "2/2 [==============================] - 1s 472ms/step - loss: 0.0206 - macro_f1: 0.9976 - val_loss: 0.0362 - val_macro_f1: 0.9980\n",
            "Epoch 47/100\n",
            "2/2 [==============================] - ETA: 0s - loss: 0.0196 - macro_f1: 0.9982"
          ]
        },
        {
          "name": "stderr",
          "output_type": "stream",
          "text": [
            "WARNING:tensorflow:`evaluate()` received a value for `sample_weight`, but `weighted_metrics` were not provided.  Did you mean to pass metrics to `weighted_metrics` in `compile()`?  If this is intentional you can pass `weighted_metrics=[]` to `compile()` in order to silence this warning.\n"
          ]
        },
        {
          "name": "stdout",
          "output_type": "stream",
          "text": [
            "2/2 [==============================] - 1s 468ms/step - loss: 0.0196 - macro_f1: 0.9982 - val_loss: 0.0353 - val_macro_f1: 0.9980\n",
            "Epoch 48/100\n",
            "2/2 [==============================] - ETA: 0s - loss: 0.0189 - macro_f1: 0.9983"
          ]
        },
        {
          "name": "stderr",
          "output_type": "stream",
          "text": [
            "WARNING:tensorflow:`evaluate()` received a value for `sample_weight`, but `weighted_metrics` were not provided.  Did you mean to pass metrics to `weighted_metrics` in `compile()`?  If this is intentional you can pass `weighted_metrics=[]` to `compile()` in order to silence this warning.\n"
          ]
        },
        {
          "name": "stdout",
          "output_type": "stream",
          "text": [
            "2/2 [==============================] - 1s 473ms/step - loss: 0.0189 - macro_f1: 0.9983 - val_loss: 0.0345 - val_macro_f1: 0.9980\n",
            "Epoch 49/100\n",
            "2/2 [==============================] - ETA: 0s - loss: 0.0186 - macro_f1: 0.9987"
          ]
        },
        {
          "name": "stderr",
          "output_type": "stream",
          "text": [
            "WARNING:tensorflow:`evaluate()` received a value for `sample_weight`, but `weighted_metrics` were not provided.  Did you mean to pass metrics to `weighted_metrics` in `compile()`?  If this is intentional you can pass `weighted_metrics=[]` to `compile()` in order to silence this warning.\n"
          ]
        },
        {
          "name": "stdout",
          "output_type": "stream",
          "text": [
            "2/2 [==============================] - 1s 471ms/step - loss: 0.0186 - macro_f1: 0.9987 - val_loss: 0.0338 - val_macro_f1: 0.9980\n",
            "Epoch 50/100\n",
            "2/2 [==============================] - ETA: 0s - loss: 0.0178 - macro_f1: 0.9994"
          ]
        },
        {
          "name": "stderr",
          "output_type": "stream",
          "text": [
            "WARNING:tensorflow:`evaluate()` received a value for `sample_weight`, but `weighted_metrics` were not provided.  Did you mean to pass metrics to `weighted_metrics` in `compile()`?  If this is intentional you can pass `weighted_metrics=[]` to `compile()` in order to silence this warning.\n"
          ]
        },
        {
          "name": "stdout",
          "output_type": "stream",
          "text": [
            "2/2 [==============================] - 1s 473ms/step - loss: 0.0178 - macro_f1: 0.9994 - val_loss: 0.0329 - val_macro_f1: 0.9980\n",
            "Epoch 51/100\n",
            "2/2 [==============================] - ETA: 0s - loss: 0.0172 - macro_f1: 0.9994"
          ]
        },
        {
          "name": "stderr",
          "output_type": "stream",
          "text": [
            "WARNING:tensorflow:`evaluate()` received a value for `sample_weight`, but `weighted_metrics` were not provided.  Did you mean to pass metrics to `weighted_metrics` in `compile()`?  If this is intentional you can pass `weighted_metrics=[]` to `compile()` in order to silence this warning.\n"
          ]
        },
        {
          "name": "stdout",
          "output_type": "stream",
          "text": [
            "2/2 [==============================] - 1s 473ms/step - loss: 0.0172 - macro_f1: 0.9994 - val_loss: 0.0320 - val_macro_f1: 0.9980\n",
            "Epoch 52/100\n",
            "2/2 [==============================] - ETA: 0s - loss: 0.0168 - macro_f1: 0.9995"
          ]
        },
        {
          "name": "stderr",
          "output_type": "stream",
          "text": [
            "WARNING:tensorflow:`evaluate()` received a value for `sample_weight`, but `weighted_metrics` were not provided.  Did you mean to pass metrics to `weighted_metrics` in `compile()`?  If this is intentional you can pass `weighted_metrics=[]` to `compile()` in order to silence this warning.\n"
          ]
        },
        {
          "name": "stdout",
          "output_type": "stream",
          "text": [
            "2/2 [==============================] - 1s 471ms/step - loss: 0.0168 - macro_f1: 0.9995 - val_loss: 0.0312 - val_macro_f1: 0.9980\n",
            "Epoch 53/100\n",
            "2/2 [==============================] - ETA: 0s - loss: 0.0162 - macro_f1: 0.9993"
          ]
        },
        {
          "name": "stderr",
          "output_type": "stream",
          "text": [
            "WARNING:tensorflow:`evaluate()` received a value for `sample_weight`, but `weighted_metrics` were not provided.  Did you mean to pass metrics to `weighted_metrics` in `compile()`?  If this is intentional you can pass `weighted_metrics=[]` to `compile()` in order to silence this warning.\n"
          ]
        },
        {
          "name": "stdout",
          "output_type": "stream",
          "text": [
            "2/2 [==============================] - 1s 471ms/step - loss: 0.0162 - macro_f1: 0.9993 - val_loss: 0.0304 - val_macro_f1: 0.9980\n",
            "Epoch 54/100\n",
            "2/2 [==============================] - ETA: 0s - loss: 0.0156 - macro_f1: 0.9992"
          ]
        },
        {
          "name": "stderr",
          "output_type": "stream",
          "text": [
            "WARNING:tensorflow:`evaluate()` received a value for `sample_weight`, but `weighted_metrics` were not provided.  Did you mean to pass metrics to `weighted_metrics` in `compile()`?  If this is intentional you can pass `weighted_metrics=[]` to `compile()` in order to silence this warning.\n"
          ]
        },
        {
          "name": "stdout",
          "output_type": "stream",
          "text": [
            "2/2 [==============================] - 1s 474ms/step - loss: 0.0156 - macro_f1: 0.9992 - val_loss: 0.0298 - val_macro_f1: 0.9980\n",
            "Epoch 55/100\n",
            "2/2 [==============================] - ETA: 0s - loss: 0.0153 - macro_f1: 0.9994"
          ]
        },
        {
          "name": "stderr",
          "output_type": "stream",
          "text": [
            "WARNING:tensorflow:`evaluate()` received a value for `sample_weight`, but `weighted_metrics` were not provided.  Did you mean to pass metrics to `weighted_metrics` in `compile()`?  If this is intentional you can pass `weighted_metrics=[]` to `compile()` in order to silence this warning.\n"
          ]
        },
        {
          "name": "stdout",
          "output_type": "stream",
          "text": [
            "2/2 [==============================] - 1s 468ms/step - loss: 0.0153 - macro_f1: 0.9994 - val_loss: 0.0292 - val_macro_f1: 0.9980\n",
            "Epoch 56/100\n",
            "2/2 [==============================] - ETA: 0s - loss: 0.0153 - macro_f1: 0.9993"
          ]
        },
        {
          "name": "stderr",
          "output_type": "stream",
          "text": [
            "WARNING:tensorflow:`evaluate()` received a value for `sample_weight`, but `weighted_metrics` were not provided.  Did you mean to pass metrics to `weighted_metrics` in `compile()`?  If this is intentional you can pass `weighted_metrics=[]` to `compile()` in order to silence this warning.\n"
          ]
        },
        {
          "name": "stdout",
          "output_type": "stream",
          "text": [
            "2/2 [==============================] - 1s 478ms/step - loss: 0.0153 - macro_f1: 0.9993 - val_loss: 0.0287 - val_macro_f1: 0.9980\n",
            "Epoch 57/100\n",
            "2/2 [==============================] - ETA: 0s - loss: 0.0144 - macro_f1: 0.9994"
          ]
        },
        {
          "name": "stderr",
          "output_type": "stream",
          "text": [
            "WARNING:tensorflow:`evaluate()` received a value for `sample_weight`, but `weighted_metrics` were not provided.  Did you mean to pass metrics to `weighted_metrics` in `compile()`?  If this is intentional you can pass `weighted_metrics=[]` to `compile()` in order to silence this warning.\n"
          ]
        },
        {
          "name": "stdout",
          "output_type": "stream",
          "text": [
            "2/2 [==============================] - 1s 472ms/step - loss: 0.0144 - macro_f1: 0.9994 - val_loss: 0.0280 - val_macro_f1: 0.9980\n",
            "Epoch 58/100\n",
            "2/2 [==============================] - ETA: 0s - loss: 0.0140 - macro_f1: 0.9991"
          ]
        },
        {
          "name": "stderr",
          "output_type": "stream",
          "text": [
            "WARNING:tensorflow:`evaluate()` received a value for `sample_weight`, but `weighted_metrics` were not provided.  Did you mean to pass metrics to `weighted_metrics` in `compile()`?  If this is intentional you can pass `weighted_metrics=[]` to `compile()` in order to silence this warning.\n"
          ]
        },
        {
          "name": "stdout",
          "output_type": "stream",
          "text": [
            "2/2 [==============================] - 1s 467ms/step - loss: 0.0140 - macro_f1: 0.9991 - val_loss: 0.0274 - val_macro_f1: 0.9980\n",
            "Epoch 59/100\n",
            "2/2 [==============================] - ETA: 0s - loss: 0.0137 - macro_f1: 0.9991"
          ]
        },
        {
          "name": "stderr",
          "output_type": "stream",
          "text": [
            "WARNING:tensorflow:`evaluate()` received a value for `sample_weight`, but `weighted_metrics` were not provided.  Did you mean to pass metrics to `weighted_metrics` in `compile()`?  If this is intentional you can pass `weighted_metrics=[]` to `compile()` in order to silence this warning.\n"
          ]
        },
        {
          "name": "stdout",
          "output_type": "stream",
          "text": [
            "2/2 [==============================] - 1s 470ms/step - loss: 0.0137 - macro_f1: 0.9991 - val_loss: 0.0268 - val_macro_f1: 1.0000\n",
            "Epoch 60/100\n",
            "2/2 [==============================] - ETA: 0s - loss: 0.0133 - macro_f1: 0.9994"
          ]
        },
        {
          "name": "stderr",
          "output_type": "stream",
          "text": [
            "WARNING:tensorflow:`evaluate()` received a value for `sample_weight`, but `weighted_metrics` were not provided.  Did you mean to pass metrics to `weighted_metrics` in `compile()`?  If this is intentional you can pass `weighted_metrics=[]` to `compile()` in order to silence this warning.\n"
          ]
        },
        {
          "name": "stdout",
          "output_type": "stream",
          "text": [
            "2/2 [==============================] - 1s 467ms/step - loss: 0.0133 - macro_f1: 0.9994 - val_loss: 0.0262 - val_macro_f1: 1.0000\n",
            "Epoch 61/100\n",
            "2/2 [==============================] - ETA: 0s - loss: 0.0130 - macro_f1: 0.9994"
          ]
        },
        {
          "name": "stderr",
          "output_type": "stream",
          "text": [
            "WARNING:tensorflow:`evaluate()` received a value for `sample_weight`, but `weighted_metrics` were not provided.  Did you mean to pass metrics to `weighted_metrics` in `compile()`?  If this is intentional you can pass `weighted_metrics=[]` to `compile()` in order to silence this warning.\n"
          ]
        },
        {
          "name": "stdout",
          "output_type": "stream",
          "text": [
            "2/2 [==============================] - 1s 462ms/step - loss: 0.0130 - macro_f1: 0.9994 - val_loss: 0.0257 - val_macro_f1: 1.0000\n",
            "Epoch 62/100\n",
            "2/2 [==============================] - ETA: 0s - loss: 0.0126 - macro_f1: 0.9994"
          ]
        },
        {
          "name": "stderr",
          "output_type": "stream",
          "text": [
            "WARNING:tensorflow:`evaluate()` received a value for `sample_weight`, but `weighted_metrics` were not provided.  Did you mean to pass metrics to `weighted_metrics` in `compile()`?  If this is intentional you can pass `weighted_metrics=[]` to `compile()` in order to silence this warning.\n"
          ]
        },
        {
          "name": "stdout",
          "output_type": "stream",
          "text": [
            "2/2 [==============================] - 1s 467ms/step - loss: 0.0126 - macro_f1: 0.9994 - val_loss: 0.0253 - val_macro_f1: 1.0000\n",
            "Epoch 63/100\n",
            "2/2 [==============================] - ETA: 0s - loss: 0.0124 - macro_f1: 0.9993"
          ]
        },
        {
          "name": "stderr",
          "output_type": "stream",
          "text": [
            "WARNING:tensorflow:`evaluate()` received a value for `sample_weight`, but `weighted_metrics` were not provided.  Did you mean to pass metrics to `weighted_metrics` in `compile()`?  If this is intentional you can pass `weighted_metrics=[]` to `compile()` in order to silence this warning.\n"
          ]
        },
        {
          "name": "stdout",
          "output_type": "stream",
          "text": [
            "2/2 [==============================] - 1s 463ms/step - loss: 0.0124 - macro_f1: 0.9993 - val_loss: 0.0249 - val_macro_f1: 1.0000\n",
            "Epoch 64/100\n",
            "2/2 [==============================] - ETA: 0s - loss: 0.0120 - macro_f1: 0.9994"
          ]
        },
        {
          "name": "stderr",
          "output_type": "stream",
          "text": [
            "WARNING:tensorflow:`evaluate()` received a value for `sample_weight`, but `weighted_metrics` were not provided.  Did you mean to pass metrics to `weighted_metrics` in `compile()`?  If this is intentional you can pass `weighted_metrics=[]` to `compile()` in order to silence this warning.\n"
          ]
        },
        {
          "name": "stdout",
          "output_type": "stream",
          "text": [
            "2/2 [==============================] - 1s 457ms/step - loss: 0.0120 - macro_f1: 0.9994 - val_loss: 0.0245 - val_macro_f1: 1.0000\n",
            "Epoch 65/100\n",
            "2/2 [==============================] - ETA: 0s - loss: 0.0118 - macro_f1: 0.9994"
          ]
        },
        {
          "name": "stderr",
          "output_type": "stream",
          "text": [
            "WARNING:tensorflow:`evaluate()` received a value for `sample_weight`, but `weighted_metrics` were not provided.  Did you mean to pass metrics to `weighted_metrics` in `compile()`?  If this is intentional you can pass `weighted_metrics=[]` to `compile()` in order to silence this warning.\n"
          ]
        },
        {
          "name": "stdout",
          "output_type": "stream",
          "text": [
            "2/2 [==============================] - 1s 465ms/step - loss: 0.0118 - macro_f1: 0.9994 - val_loss: 0.0239 - val_macro_f1: 1.0000\n",
            "Epoch 66/100\n",
            "2/2 [==============================] - ETA: 0s - loss: 0.0115 - macro_f1: 0.9990"
          ]
        },
        {
          "name": "stderr",
          "output_type": "stream",
          "text": [
            "WARNING:tensorflow:`evaluate()` received a value for `sample_weight`, but `weighted_metrics` were not provided.  Did you mean to pass metrics to `weighted_metrics` in `compile()`?  If this is intentional you can pass `weighted_metrics=[]` to `compile()` in order to silence this warning.\n"
          ]
        },
        {
          "name": "stdout",
          "output_type": "stream",
          "text": [
            "2/2 [==============================] - 1s 468ms/step - loss: 0.0115 - macro_f1: 0.9990 - val_loss: 0.0235 - val_macro_f1: 1.0000\n",
            "Epoch 67/100\n",
            "2/2 [==============================] - ETA: 0s - loss: 0.0112 - macro_f1: 0.9994"
          ]
        },
        {
          "name": "stderr",
          "output_type": "stream",
          "text": [
            "WARNING:tensorflow:`evaluate()` received a value for `sample_weight`, but `weighted_metrics` were not provided.  Did you mean to pass metrics to `weighted_metrics` in `compile()`?  If this is intentional you can pass `weighted_metrics=[]` to `compile()` in order to silence this warning.\n"
          ]
        },
        {
          "name": "stdout",
          "output_type": "stream",
          "text": [
            "2/2 [==============================] - 1s 462ms/step - loss: 0.0112 - macro_f1: 0.9994 - val_loss: 0.0231 - val_macro_f1: 1.0000\n",
            "Epoch 68/100\n",
            "2/2 [==============================] - ETA: 0s - loss: 0.0110 - macro_f1: 0.9993"
          ]
        },
        {
          "name": "stderr",
          "output_type": "stream",
          "text": [
            "WARNING:tensorflow:`evaluate()` received a value for `sample_weight`, but `weighted_metrics` were not provided.  Did you mean to pass metrics to `weighted_metrics` in `compile()`?  If this is intentional you can pass `weighted_metrics=[]` to `compile()` in order to silence this warning.\n"
          ]
        },
        {
          "name": "stdout",
          "output_type": "stream",
          "text": [
            "2/2 [==============================] - 1s 465ms/step - loss: 0.0110 - macro_f1: 0.9993 - val_loss: 0.0230 - val_macro_f1: 1.0000\n",
            "Epoch 69/100\n",
            "2/2 [==============================] - ETA: 0s - loss: 0.0106 - macro_f1: 0.9992"
          ]
        },
        {
          "name": "stderr",
          "output_type": "stream",
          "text": [
            "WARNING:tensorflow:`evaluate()` received a value for `sample_weight`, but `weighted_metrics` were not provided.  Did you mean to pass metrics to `weighted_metrics` in `compile()`?  If this is intentional you can pass `weighted_metrics=[]` to `compile()` in order to silence this warning.\n"
          ]
        },
        {
          "name": "stdout",
          "output_type": "stream",
          "text": [
            "2/2 [==============================] - 1s 468ms/step - loss: 0.0106 - macro_f1: 0.9992 - val_loss: 0.0226 - val_macro_f1: 1.0000\n",
            "Epoch 70/100\n",
            "2/2 [==============================] - ETA: 0s - loss: 0.0104 - macro_f1: 0.9991"
          ]
        },
        {
          "name": "stderr",
          "output_type": "stream",
          "text": [
            "WARNING:tensorflow:`evaluate()` received a value for `sample_weight`, but `weighted_metrics` were not provided.  Did you mean to pass metrics to `weighted_metrics` in `compile()`?  If this is intentional you can pass `weighted_metrics=[]` to `compile()` in order to silence this warning.\n"
          ]
        },
        {
          "name": "stdout",
          "output_type": "stream",
          "text": [
            "2/2 [==============================] - 1s 465ms/step - loss: 0.0104 - macro_f1: 0.9991 - val_loss: 0.0220 - val_macro_f1: 1.0000\n",
            "Epoch 71/100\n",
            "2/2 [==============================] - ETA: 0s - loss: 0.0103 - macro_f1: 0.9990"
          ]
        },
        {
          "name": "stderr",
          "output_type": "stream",
          "text": [
            "WARNING:tensorflow:`evaluate()` received a value for `sample_weight`, but `weighted_metrics` were not provided.  Did you mean to pass metrics to `weighted_metrics` in `compile()`?  If this is intentional you can pass `weighted_metrics=[]` to `compile()` in order to silence this warning.\n"
          ]
        },
        {
          "name": "stdout",
          "output_type": "stream",
          "text": [
            "2/2 [==============================] - 1s 467ms/step - loss: 0.0103 - macro_f1: 0.9990 - val_loss: 0.0214 - val_macro_f1: 1.0000\n",
            "Epoch 72/100\n",
            "2/2 [==============================] - ETA: 0s - loss: 0.0100 - macro_f1: 0.9990"
          ]
        },
        {
          "name": "stderr",
          "output_type": "stream",
          "text": [
            "WARNING:tensorflow:`evaluate()` received a value for `sample_weight`, but `weighted_metrics` were not provided.  Did you mean to pass metrics to `weighted_metrics` in `compile()`?  If this is intentional you can pass `weighted_metrics=[]` to `compile()` in order to silence this warning.\n"
          ]
        },
        {
          "name": "stdout",
          "output_type": "stream",
          "text": [
            "2/2 [==============================] - 1s 477ms/step - loss: 0.0100 - macro_f1: 0.9990 - val_loss: 0.0210 - val_macro_f1: 1.0000\n",
            "Epoch 73/100\n",
            "2/2 [==============================] - ETA: 0s - loss: 0.0101 - macro_f1: 0.9987"
          ]
        },
        {
          "name": "stderr",
          "output_type": "stream",
          "text": [
            "WARNING:tensorflow:`evaluate()` received a value for `sample_weight`, but `weighted_metrics` were not provided.  Did you mean to pass metrics to `weighted_metrics` in `compile()`?  If this is intentional you can pass `weighted_metrics=[]` to `compile()` in order to silence this warning.\n"
          ]
        },
        {
          "name": "stdout",
          "output_type": "stream",
          "text": [
            "2/2 [==============================] - 1s 462ms/step - loss: 0.0101 - macro_f1: 0.9987 - val_loss: 0.0207 - val_macro_f1: 1.0000\n",
            "Epoch 74/100\n",
            "2/2 [==============================] - ETA: 0s - loss: 0.0095 - macro_f1: 0.9994"
          ]
        },
        {
          "name": "stderr",
          "output_type": "stream",
          "text": [
            "WARNING:tensorflow:`evaluate()` received a value for `sample_weight`, but `weighted_metrics` were not provided.  Did you mean to pass metrics to `weighted_metrics` in `compile()`?  If this is intentional you can pass `weighted_metrics=[]` to `compile()` in order to silence this warning.\n"
          ]
        },
        {
          "name": "stdout",
          "output_type": "stream",
          "text": [
            "2/2 [==============================] - 1s 466ms/step - loss: 0.0095 - macro_f1: 0.9994 - val_loss: 0.0206 - val_macro_f1: 1.0000\n",
            "Epoch 75/100\n",
            "2/2 [==============================] - ETA: 0s - loss: 0.0093 - macro_f1: 0.9994"
          ]
        },
        {
          "name": "stderr",
          "output_type": "stream",
          "text": [
            "WARNING:tensorflow:`evaluate()` received a value for `sample_weight`, but `weighted_metrics` were not provided.  Did you mean to pass metrics to `weighted_metrics` in `compile()`?  If this is intentional you can pass `weighted_metrics=[]` to `compile()` in order to silence this warning.\n"
          ]
        },
        {
          "name": "stdout",
          "output_type": "stream",
          "text": [
            "2/2 [==============================] - 1s 470ms/step - loss: 0.0093 - macro_f1: 0.9994 - val_loss: 0.0204 - val_macro_f1: 1.0000\n",
            "Epoch 76/100\n",
            "2/2 [==============================] - ETA: 0s - loss: 0.0091 - macro_f1: 0.9992"
          ]
        },
        {
          "name": "stderr",
          "output_type": "stream",
          "text": [
            "WARNING:tensorflow:`evaluate()` received a value for `sample_weight`, but `weighted_metrics` were not provided.  Did you mean to pass metrics to `weighted_metrics` in `compile()`?  If this is intentional you can pass `weighted_metrics=[]` to `compile()` in order to silence this warning.\n"
          ]
        },
        {
          "name": "stdout",
          "output_type": "stream",
          "text": [
            "2/2 [==============================] - 1s 462ms/step - loss: 0.0091 - macro_f1: 0.9992 - val_loss: 0.0201 - val_macro_f1: 1.0000\n",
            "Epoch 77/100\n",
            "2/2 [==============================] - ETA: 0s - loss: 0.0091 - macro_f1: 0.9994"
          ]
        },
        {
          "name": "stderr",
          "output_type": "stream",
          "text": [
            "WARNING:tensorflow:`evaluate()` received a value for `sample_weight`, but `weighted_metrics` were not provided.  Did you mean to pass metrics to `weighted_metrics` in `compile()`?  If this is intentional you can pass `weighted_metrics=[]` to `compile()` in order to silence this warning.\n"
          ]
        },
        {
          "name": "stdout",
          "output_type": "stream",
          "text": [
            "2/2 [==============================] - 1s 463ms/step - loss: 0.0091 - macro_f1: 0.9994 - val_loss: 0.0197 - val_macro_f1: 1.0000\n",
            "Epoch 78/100\n",
            "2/2 [==============================] - ETA: 0s - loss: 0.0089 - macro_f1: 0.9994"
          ]
        },
        {
          "name": "stderr",
          "output_type": "stream",
          "text": [
            "WARNING:tensorflow:`evaluate()` received a value for `sample_weight`, but `weighted_metrics` were not provided.  Did you mean to pass metrics to `weighted_metrics` in `compile()`?  If this is intentional you can pass `weighted_metrics=[]` to `compile()` in order to silence this warning.\n"
          ]
        },
        {
          "name": "stdout",
          "output_type": "stream",
          "text": [
            "2/2 [==============================] - 1s 475ms/step - loss: 0.0089 - macro_f1: 0.9994 - val_loss: 0.0194 - val_macro_f1: 1.0000\n",
            "Epoch 79/100\n",
            "2/2 [==============================] - ETA: 0s - loss: 0.0086 - macro_f1: 0.9994"
          ]
        },
        {
          "name": "stderr",
          "output_type": "stream",
          "text": [
            "WARNING:tensorflow:`evaluate()` received a value for `sample_weight`, but `weighted_metrics` were not provided.  Did you mean to pass metrics to `weighted_metrics` in `compile()`?  If this is intentional you can pass `weighted_metrics=[]` to `compile()` in order to silence this warning.\n"
          ]
        },
        {
          "name": "stdout",
          "output_type": "stream",
          "text": [
            "2/2 [==============================] - 1s 466ms/step - loss: 0.0086 - macro_f1: 0.9994 - val_loss: 0.0191 - val_macro_f1: 1.0000\n",
            "Epoch 80/100\n",
            "2/2 [==============================] - ETA: 0s - loss: 0.0086 - macro_f1: 0.9990"
          ]
        },
        {
          "name": "stderr",
          "output_type": "stream",
          "text": [
            "WARNING:tensorflow:`evaluate()` received a value for `sample_weight`, but `weighted_metrics` were not provided.  Did you mean to pass metrics to `weighted_metrics` in `compile()`?  If this is intentional you can pass `weighted_metrics=[]` to `compile()` in order to silence this warning.\n"
          ]
        },
        {
          "name": "stdout",
          "output_type": "stream",
          "text": [
            "2/2 [==============================] - 1s 460ms/step - loss: 0.0086 - macro_f1: 0.9990 - val_loss: 0.0188 - val_macro_f1: 1.0000\n",
            "Epoch 81/100\n",
            "2/2 [==============================] - ETA: 0s - loss: 0.0084 - macro_f1: 0.9991"
          ]
        },
        {
          "name": "stderr",
          "output_type": "stream",
          "text": [
            "WARNING:tensorflow:`evaluate()` received a value for `sample_weight`, but `weighted_metrics` were not provided.  Did you mean to pass metrics to `weighted_metrics` in `compile()`?  If this is intentional you can pass `weighted_metrics=[]` to `compile()` in order to silence this warning.\n"
          ]
        },
        {
          "name": "stdout",
          "output_type": "stream",
          "text": [
            "2/2 [==============================] - 1s 463ms/step - loss: 0.0084 - macro_f1: 0.9991 - val_loss: 0.0186 - val_macro_f1: 1.0000\n",
            "Epoch 82/100\n",
            "2/2 [==============================] - ETA: 0s - loss: 0.0079 - macro_f1: 0.9994"
          ]
        },
        {
          "name": "stderr",
          "output_type": "stream",
          "text": [
            "WARNING:tensorflow:`evaluate()` received a value for `sample_weight`, but `weighted_metrics` were not provided.  Did you mean to pass metrics to `weighted_metrics` in `compile()`?  If this is intentional you can pass `weighted_metrics=[]` to `compile()` in order to silence this warning.\n"
          ]
        },
        {
          "name": "stdout",
          "output_type": "stream",
          "text": [
            "2/2 [==============================] - 1s 466ms/step - loss: 0.0079 - macro_f1: 0.9994 - val_loss: 0.0183 - val_macro_f1: 1.0000\n",
            "Epoch 83/100\n",
            "2/2 [==============================] - ETA: 0s - loss: 0.0080 - macro_f1: 0.9991"
          ]
        },
        {
          "name": "stderr",
          "output_type": "stream",
          "text": [
            "WARNING:tensorflow:`evaluate()` received a value for `sample_weight`, but `weighted_metrics` were not provided.  Did you mean to pass metrics to `weighted_metrics` in `compile()`?  If this is intentional you can pass `weighted_metrics=[]` to `compile()` in order to silence this warning.\n"
          ]
        },
        {
          "name": "stdout",
          "output_type": "stream",
          "text": [
            "2/2 [==============================] - 1s 465ms/step - loss: 0.0080 - macro_f1: 0.9991 - val_loss: 0.0181 - val_macro_f1: 1.0000\n",
            "Epoch 84/100\n",
            "2/2 [==============================] - ETA: 0s - loss: 0.0078 - macro_f1: 0.9994"
          ]
        },
        {
          "name": "stderr",
          "output_type": "stream",
          "text": [
            "WARNING:tensorflow:`evaluate()` received a value for `sample_weight`, but `weighted_metrics` were not provided.  Did you mean to pass metrics to `weighted_metrics` in `compile()`?  If this is intentional you can pass `weighted_metrics=[]` to `compile()` in order to silence this warning.\n"
          ]
        },
        {
          "name": "stdout",
          "output_type": "stream",
          "text": [
            "2/2 [==============================] - 1s 465ms/step - loss: 0.0078 - macro_f1: 0.9994 - val_loss: 0.0178 - val_macro_f1: 1.0000\n",
            "Epoch 85/100\n",
            "2/2 [==============================] - ETA: 0s - loss: 0.0077 - macro_f1: 0.9994"
          ]
        },
        {
          "name": "stderr",
          "output_type": "stream",
          "text": [
            "WARNING:tensorflow:`evaluate()` received a value for `sample_weight`, but `weighted_metrics` were not provided.  Did you mean to pass metrics to `weighted_metrics` in `compile()`?  If this is intentional you can pass `weighted_metrics=[]` to `compile()` in order to silence this warning.\n"
          ]
        },
        {
          "name": "stdout",
          "output_type": "stream",
          "text": [
            "2/2 [==============================] - 1s 466ms/step - loss: 0.0077 - macro_f1: 0.9994 - val_loss: 0.0176 - val_macro_f1: 1.0000\n",
            "Epoch 86/100\n",
            "2/2 [==============================] - ETA: 0s - loss: 0.0077 - macro_f1: 0.9993"
          ]
        },
        {
          "name": "stderr",
          "output_type": "stream",
          "text": [
            "WARNING:tensorflow:`evaluate()` received a value for `sample_weight`, but `weighted_metrics` were not provided.  Did you mean to pass metrics to `weighted_metrics` in `compile()`?  If this is intentional you can pass `weighted_metrics=[]` to `compile()` in order to silence this warning.\n"
          ]
        },
        {
          "name": "stdout",
          "output_type": "stream",
          "text": [
            "2/2 [==============================] - 1s 463ms/step - loss: 0.0077 - macro_f1: 0.9993 - val_loss: 0.0174 - val_macro_f1: 1.0000\n",
            "Epoch 87/100\n",
            "2/2 [==============================] - ETA: 0s - loss: 0.0075 - macro_f1: 0.9993"
          ]
        },
        {
          "name": "stderr",
          "output_type": "stream",
          "text": [
            "WARNING:tensorflow:`evaluate()` received a value for `sample_weight`, but `weighted_metrics` were not provided.  Did you mean to pass metrics to `weighted_metrics` in `compile()`?  If this is intentional you can pass `weighted_metrics=[]` to `compile()` in order to silence this warning.\n"
          ]
        },
        {
          "name": "stdout",
          "output_type": "stream",
          "text": [
            "2/2 [==============================] - 1s 472ms/step - loss: 0.0075 - macro_f1: 0.9993 - val_loss: 0.0171 - val_macro_f1: 1.0000\n",
            "Epoch 88/100\n",
            "2/2 [==============================] - ETA: 0s - loss: 0.0073 - macro_f1: 0.9994"
          ]
        },
        {
          "name": "stderr",
          "output_type": "stream",
          "text": [
            "WARNING:tensorflow:`evaluate()` received a value for `sample_weight`, but `weighted_metrics` were not provided.  Did you mean to pass metrics to `weighted_metrics` in `compile()`?  If this is intentional you can pass `weighted_metrics=[]` to `compile()` in order to silence this warning.\n"
          ]
        },
        {
          "name": "stdout",
          "output_type": "stream",
          "text": [
            "2/2 [==============================] - 1s 466ms/step - loss: 0.0073 - macro_f1: 0.9994 - val_loss: 0.0168 - val_macro_f1: 1.0000\n",
            "Epoch 89/100\n",
            "2/2 [==============================] - ETA: 0s - loss: 0.0072 - macro_f1: 0.9993"
          ]
        },
        {
          "name": "stderr",
          "output_type": "stream",
          "text": [
            "WARNING:tensorflow:`evaluate()` received a value for `sample_weight`, but `weighted_metrics` were not provided.  Did you mean to pass metrics to `weighted_metrics` in `compile()`?  If this is intentional you can pass `weighted_metrics=[]` to `compile()` in order to silence this warning.\n"
          ]
        },
        {
          "name": "stdout",
          "output_type": "stream",
          "text": [
            "2/2 [==============================] - 1s 465ms/step - loss: 0.0072 - macro_f1: 0.9993 - val_loss: 0.0166 - val_macro_f1: 1.0000\n",
            "Epoch 90/100\n",
            "2/2 [==============================] - ETA: 0s - loss: 0.0071 - macro_f1: 0.9993"
          ]
        },
        {
          "name": "stderr",
          "output_type": "stream",
          "text": [
            "WARNING:tensorflow:`evaluate()` received a value for `sample_weight`, but `weighted_metrics` were not provided.  Did you mean to pass metrics to `weighted_metrics` in `compile()`?  If this is intentional you can pass `weighted_metrics=[]` to `compile()` in order to silence this warning.\n"
          ]
        },
        {
          "name": "stdout",
          "output_type": "stream",
          "text": [
            "2/2 [==============================] - 1s 466ms/step - loss: 0.0071 - macro_f1: 0.9993 - val_loss: 0.0164 - val_macro_f1: 1.0000\n",
            "Epoch 91/100\n",
            "2/2 [==============================] - ETA: 0s - loss: 0.0069 - macro_f1: 0.9991"
          ]
        },
        {
          "name": "stderr",
          "output_type": "stream",
          "text": [
            "WARNING:tensorflow:`evaluate()` received a value for `sample_weight`, but `weighted_metrics` were not provided.  Did you mean to pass metrics to `weighted_metrics` in `compile()`?  If this is intentional you can pass `weighted_metrics=[]` to `compile()` in order to silence this warning.\n"
          ]
        },
        {
          "name": "stdout",
          "output_type": "stream",
          "text": [
            "2/2 [==============================] - 1s 467ms/step - loss: 0.0069 - macro_f1: 0.9991 - val_loss: 0.0163 - val_macro_f1: 1.0000\n",
            "Epoch 92/100\n",
            "2/2 [==============================] - ETA: 0s - loss: 0.0069 - macro_f1: 0.9994"
          ]
        },
        {
          "name": "stderr",
          "output_type": "stream",
          "text": [
            "WARNING:tensorflow:`evaluate()` received a value for `sample_weight`, but `weighted_metrics` were not provided.  Did you mean to pass metrics to `weighted_metrics` in `compile()`?  If this is intentional you can pass `weighted_metrics=[]` to `compile()` in order to silence this warning.\n"
          ]
        },
        {
          "name": "stdout",
          "output_type": "stream",
          "text": [
            "2/2 [==============================] - 1s 469ms/step - loss: 0.0069 - macro_f1: 0.9994 - val_loss: 0.0161 - val_macro_f1: 1.0000\n",
            "Epoch 93/100\n",
            "2/2 [==============================] - ETA: 0s - loss: 0.0068 - macro_f1: 0.9994"
          ]
        },
        {
          "name": "stderr",
          "output_type": "stream",
          "text": [
            "WARNING:tensorflow:`evaluate()` received a value for `sample_weight`, but `weighted_metrics` were not provided.  Did you mean to pass metrics to `weighted_metrics` in `compile()`?  If this is intentional you can pass `weighted_metrics=[]` to `compile()` in order to silence this warning.\n"
          ]
        },
        {
          "name": "stdout",
          "output_type": "stream",
          "text": [
            "2/2 [==============================] - 1s 472ms/step - loss: 0.0068 - macro_f1: 0.9994 - val_loss: 0.0159 - val_macro_f1: 1.0000\n",
            "Epoch 94/100\n",
            "2/2 [==============================] - ETA: 0s - loss: 0.0065 - macro_f1: 0.9994"
          ]
        },
        {
          "name": "stderr",
          "output_type": "stream",
          "text": [
            "WARNING:tensorflow:`evaluate()` received a value for `sample_weight`, but `weighted_metrics` were not provided.  Did you mean to pass metrics to `weighted_metrics` in `compile()`?  If this is intentional you can pass `weighted_metrics=[]` to `compile()` in order to silence this warning.\n"
          ]
        },
        {
          "name": "stdout",
          "output_type": "stream",
          "text": [
            "2/2 [==============================] - 1s 462ms/step - loss: 0.0065 - macro_f1: 0.9994 - val_loss: 0.0157 - val_macro_f1: 1.0000\n",
            "Epoch 95/100\n",
            "2/2 [==============================] - ETA: 0s - loss: 0.0065 - macro_f1: 0.9992"
          ]
        },
        {
          "name": "stderr",
          "output_type": "stream",
          "text": [
            "WARNING:tensorflow:`evaluate()` received a value for `sample_weight`, but `weighted_metrics` were not provided.  Did you mean to pass metrics to `weighted_metrics` in `compile()`?  If this is intentional you can pass `weighted_metrics=[]` to `compile()` in order to silence this warning.\n"
          ]
        },
        {
          "name": "stdout",
          "output_type": "stream",
          "text": [
            "2/2 [==============================] - 1s 460ms/step - loss: 0.0065 - macro_f1: 0.9992 - val_loss: 0.0155 - val_macro_f1: 1.0000\n",
            "Epoch 96/100\n",
            "2/2 [==============================] - ETA: 0s - loss: 0.0064 - macro_f1: 0.9994"
          ]
        },
        {
          "name": "stderr",
          "output_type": "stream",
          "text": [
            "WARNING:tensorflow:`evaluate()` received a value for `sample_weight`, but `weighted_metrics` were not provided.  Did you mean to pass metrics to `weighted_metrics` in `compile()`?  If this is intentional you can pass `weighted_metrics=[]` to `compile()` in order to silence this warning.\n"
          ]
        },
        {
          "name": "stdout",
          "output_type": "stream",
          "text": [
            "2/2 [==============================] - 1s 468ms/step - loss: 0.0064 - macro_f1: 0.9994 - val_loss: 0.0152 - val_macro_f1: 1.0000\n",
            "Epoch 97/100\n",
            "2/2 [==============================] - ETA: 0s - loss: 0.0063 - macro_f1: 0.9991"
          ]
        },
        {
          "name": "stderr",
          "output_type": "stream",
          "text": [
            "WARNING:tensorflow:`evaluate()` received a value for `sample_weight`, but `weighted_metrics` were not provided.  Did you mean to pass metrics to `weighted_metrics` in `compile()`?  If this is intentional you can pass `weighted_metrics=[]` to `compile()` in order to silence this warning.\n"
          ]
        },
        {
          "name": "stdout",
          "output_type": "stream",
          "text": [
            "2/2 [==============================] - 1s 463ms/step - loss: 0.0063 - macro_f1: 0.9991 - val_loss: 0.0150 - val_macro_f1: 1.0000\n",
            "Epoch 98/100\n",
            "2/2 [==============================] - ETA: 0s - loss: 0.0063 - macro_f1: 0.9993"
          ]
        },
        {
          "name": "stderr",
          "output_type": "stream",
          "text": [
            "WARNING:tensorflow:`evaluate()` received a value for `sample_weight`, but `weighted_metrics` were not provided.  Did you mean to pass metrics to `weighted_metrics` in `compile()`?  If this is intentional you can pass `weighted_metrics=[]` to `compile()` in order to silence this warning.\n"
          ]
        },
        {
          "name": "stdout",
          "output_type": "stream",
          "text": [
            "2/2 [==============================] - 1s 464ms/step - loss: 0.0063 - macro_f1: 0.9993 - val_loss: 0.0148 - val_macro_f1: 1.0000\n",
            "Epoch 99/100\n",
            "2/2 [==============================] - ETA: 0s - loss: 0.0061 - macro_f1: 0.9990"
          ]
        },
        {
          "name": "stderr",
          "output_type": "stream",
          "text": [
            "WARNING:tensorflow:`evaluate()` received a value for `sample_weight`, but `weighted_metrics` were not provided.  Did you mean to pass metrics to `weighted_metrics` in `compile()`?  If this is intentional you can pass `weighted_metrics=[]` to `compile()` in order to silence this warning.\n"
          ]
        },
        {
          "name": "stdout",
          "output_type": "stream",
          "text": [
            "2/2 [==============================] - 1s 466ms/step - loss: 0.0061 - macro_f1: 0.9990 - val_loss: 0.0147 - val_macro_f1: 1.0000\n",
            "Epoch 100/100\n",
            "2/2 [==============================] - ETA: 0s - loss: 0.0060 - macro_f1: 0.9994"
          ]
        },
        {
          "name": "stderr",
          "output_type": "stream",
          "text": [
            "WARNING:tensorflow:`evaluate()` received a value for `sample_weight`, but `weighted_metrics` were not provided.  Did you mean to pass metrics to `weighted_metrics` in `compile()`?  If this is intentional you can pass `weighted_metrics=[]` to `compile()` in order to silence this warning.\n"
          ]
        },
        {
          "name": "stdout",
          "output_type": "stream",
          "text": [
            "2/2 [==============================] - 1s 464ms/step - loss: 0.0060 - macro_f1: 0.9994 - val_loss: 0.0146 - val_macro_f1: 1.0000\n"
          ]
        }
      ],
      "source": [
        "LR = 1e-4 # Keep it small when transfer learning\n",
        "EPOCHS = 100\n",
        "PATIENCE=5\n",
        "from tensorflow.keras.callbacks import EarlyStopping\n",
        "early_stop = EarlyStopping(monitor = 'val_loss', patience = PATIENCE)\n",
        "model.compile(\n",
        "  optimizer=tf.keras.optimizers.Adam(learning_rate=LR),\n",
        "  loss=macro_soft_f1,\n",
        "  metrics=[macro_f1])\n",
        "# Train the model\n",
        "history = model.fit(train_ds1,\n",
        "                    epochs=EPOCHS,\n",
        "                    validation_data=create_dataset(X_val, y_val_bin,\n",
        "                                                   is_training=False),callbacks = [early_stop])"
      ]
    },
    {
      "cell_type": "code",
      "execution_count": 58,
      "metadata": {},
      "outputs": [
        {
          "name": "stdout",
          "output_type": "stream",
          "text": [
            "Keras version: 2.10.0\n"
          ]
        },
        {
          "ename": "TypeError",
          "evalue": "save_model() got an unexpected keyword argument 'custom_objects'",
          "output_type": "error",
          "traceback": [
            "\u001b[1;31m---------------------------------------------------------------------------\u001b[0m",
            "\u001b[1;31mTypeError\u001b[0m                                 Traceback (most recent call last)",
            "Cell \u001b[1;32mIn[58], line 8\u001b[0m\n\u001b[0;32m      3\u001b[0m \u001b[38;5;28mprint\u001b[39m(\u001b[38;5;124mf\u001b[39m\u001b[38;5;124m\"\u001b[39m\u001b[38;5;124mKeras version: \u001b[39m\u001b[38;5;132;01m{\u001b[39;00m__version__\u001b[38;5;132;01m}\u001b[39;00m\u001b[38;5;124m\"\u001b[39m)\n\u001b[0;32m      5\u001b[0m \u001b[38;5;66;03m# Define your custom metrics (macro_soft_f1 and macro_f1)\u001b[39;00m\n\u001b[0;32m      6\u001b[0m \n\u001b[0;32m      7\u001b[0m \u001b[38;5;66;03m# Assuming you have a model trained with these custom metrics\u001b[39;00m\n\u001b[1;32m----> 8\u001b[0m \u001b[43mtf\u001b[49m\u001b[38;5;241;43m.\u001b[39;49m\u001b[43mkeras\u001b[49m\u001b[38;5;241;43m.\u001b[39;49m\u001b[43mmodels\u001b[49m\u001b[38;5;241;43m.\u001b[39;49m\u001b[43msave_model\u001b[49m\u001b[43m(\u001b[49m\u001b[38;5;124;43m'\u001b[39;49m\u001b[38;5;124;43mdodeLidoModel.h5\u001b[39;49m\u001b[38;5;124;43m'\u001b[39;49m\u001b[43m,\u001b[49m\u001b[43m \u001b[49m\u001b[43mcustom_objects\u001b[49m\u001b[38;5;241;43m=\u001b[39;49m\u001b[43m{\u001b[49m\u001b[38;5;124;43m'\u001b[39;49m\u001b[38;5;124;43mmacro_soft_f1\u001b[39;49m\u001b[38;5;124;43m'\u001b[39;49m\u001b[43m:\u001b[49m\u001b[43m \u001b[49m\u001b[43mmacro_soft_f1\u001b[49m\u001b[43m,\u001b[49m\u001b[43m \u001b[49m\u001b[38;5;124;43m'\u001b[39;49m\u001b[38;5;124;43mmacro_f1\u001b[39;49m\u001b[38;5;124;43m'\u001b[39;49m\u001b[43m:\u001b[49m\u001b[43m \u001b[49m\u001b[43mmacro_f1\u001b[49m\u001b[43m}\u001b[49m\u001b[43m)\u001b[49m\n",
            "File \u001b[1;32mc:\\Users\\akhil\\anaconda3\\envs\\py38\\lib\\site-packages\\keras\\utils\\traceback_utils.py:70\u001b[0m, in \u001b[0;36mfilter_traceback.<locals>.error_handler\u001b[1;34m(*args, **kwargs)\u001b[0m\n\u001b[0;32m     67\u001b[0m     filtered_tb \u001b[39m=\u001b[39m _process_traceback_frames(e\u001b[39m.\u001b[39m__traceback__)\n\u001b[0;32m     68\u001b[0m     \u001b[39m# To get the full stack trace, call:\u001b[39;00m\n\u001b[0;32m     69\u001b[0m     \u001b[39m# `tf.debugging.disable_traceback_filtering()`\u001b[39;00m\n\u001b[1;32m---> 70\u001b[0m     \u001b[39mraise\u001b[39;00m e\u001b[39m.\u001b[39mwith_traceback(filtered_tb) \u001b[39mfrom\u001b[39;00m \u001b[39mNone\u001b[39;00m\n\u001b[0;32m     71\u001b[0m \u001b[39mfinally\u001b[39;00m:\n\u001b[0;32m     72\u001b[0m     \u001b[39mdel\u001b[39;00m filtered_tb\n",
            "File \u001b[1;32mc:\\Users\\akhil\\anaconda3\\envs\\py38\\lib\\site-packages\\keras\\utils\\traceback_utils.py:65\u001b[0m, in \u001b[0;36mfilter_traceback.<locals>.error_handler\u001b[1;34m(*args, **kwargs)\u001b[0m\n\u001b[0;32m     63\u001b[0m filtered_tb \u001b[39m=\u001b[39m \u001b[39mNone\u001b[39;00m\n\u001b[0;32m     64\u001b[0m \u001b[39mtry\u001b[39;00m:\n\u001b[1;32m---> 65\u001b[0m     \u001b[39mreturn\u001b[39;00m fn(\u001b[39m*\u001b[39margs, \u001b[39m*\u001b[39m\u001b[39m*\u001b[39mkwargs)\n\u001b[0;32m     66\u001b[0m \u001b[39mexcept\u001b[39;00m \u001b[39mException\u001b[39;00m \u001b[39mas\u001b[39;00m e:\n\u001b[0;32m     67\u001b[0m     filtered_tb \u001b[39m=\u001b[39m _process_traceback_frames(e\u001b[39m.\u001b[39m__traceback__)\n",
            "\u001b[1;31mTypeError\u001b[0m: save_model() got an unexpected keyword argument 'custom_objects'"
          ]
        }
      ],
      "source": [
        "# Check Keras version (should be 2.10.x or higher)\n",
        "from tensorflow.keras import __version__\n",
        "print(f\"Keras version: {__version__}\")\n",
        "\n",
        "# Define your custom metrics (macro_soft_f1 and macro_f1)\n",
        "\n",
        "# Assuming you have a model trained with these custom metrics\n",
        "tf.keras.models.save_model('dodeLidoModel.h5', custom_objects={'macro_soft_f1': macro_soft_f1, 'macro_f1': macro_f1})"
      ]
    }
  ],
  "metadata": {
    "accelerator": "GPU",
    "colab": {
      "gpuType": "T4",
      "include_colab_link": true,
      "provenance": []
    },
    "kernelspec": {
      "display_name": "Python 3.8.19 ('py38')",
      "language": "python",
      "name": "python3"
    },
    "language_info": {
      "codemirror_mode": {
        "name": "ipython",
        "version": 3
      },
      "file_extension": ".py",
      "mimetype": "text/x-python",
      "name": "python",
      "nbconvert_exporter": "python",
      "pygments_lexer": "ipython3",
      "version": "3.8.19"
    },
    "vscode": {
      "interpreter": {
        "hash": "2e0ac825c0b43c8fdb3b41fbc96e439030dce5eafdf638a4a14de2f62742eef0"
      }
    }
  },
  "nbformat": 4,
  "nbformat_minor": 0
}
